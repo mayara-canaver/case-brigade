{
 "cells": [
  {
   "cell_type": "markdown",
   "metadata": {},
   "source": [
    "Sessão para importar pacotes externos:"
   ]
  },
  {
   "cell_type": "code",
   "execution_count": 1,
   "metadata": {},
   "outputs": [],
   "source": [
    "import pandas as pd\n",
    "import os\n",
    "import seaborn as sns\n",
    "\n",
    "from pandas.api.types import is_string_dtype\n"
   ]
  },
  {
   "cell_type": "markdown",
   "metadata": {},
   "source": [
    "Configurações gerais do sistema:"
   ]
  },
  {
   "cell_type": "code",
   "execution_count": 2,
   "metadata": {},
   "outputs": [],
   "source": [
    "pd.options.display.max_columns = None"
   ]
  },
  {
   "cell_type": "markdown",
   "metadata": {},
   "source": [
    "Funções gerais úteis (tratamento, caminho de arquivo):"
   ]
  },
  {
   "cell_type": "code",
   "execution_count": 3,
   "metadata": {},
   "outputs": [],
   "source": [
    "def pega_caminho(nome_arquivo: str):\n",
    "    caminho = os.path.abspath(f\"../data/{nome_arquivo}\")\n",
    "    return caminho"
   ]
  },
  {
   "cell_type": "code",
   "execution_count": 4,
   "metadata": {},
   "outputs": [],
   "source": [
    "def tratar_dataset(dataset):\n",
    "\n",
    "    dataset.drop_duplicates(inplace=True)\n",
    "    #dataset.dropna(inplace=True)\n",
    "    \n",
    "    for coluna in dataset.columns:\n",
    "        if is_string_dtype(dataset[coluna]):\n",
    "            dataset[coluna] = dataset[coluna].str.normalize('NFKD').str.encode('ascii', errors='ignore').str.decode('utf-8')\n",
    "            dataset[coluna] = dataset[coluna].str.upper()\n",
    "            dataset[coluna] = dataset[coluna].str.replace('\"', \"\")\n",
    "\n",
    "            \n",
    "    dataset.columns = map(str.upper, dataset.columns)\n",
    "    \n",
    "    return dataset"
   ]
  },
  {
   "cell_type": "markdown",
   "metadata": {},
   "source": [
    "Lendo o dataset de cada ano (2016 - 2019):"
   ]
  },
  {
   "cell_type": "code",
   "execution_count": 28,
   "metadata": {},
   "outputs": [],
   "source": [
    "caminho_licitacao_2016  = pega_caminho(\"2016/licitacao.csv\")\n",
    "l = list(range(1, 30000, 3))\n",
    "\n",
    "data_licitacao_2016 = pd.read_csv(caminho_licitacao_2016, skiprows=l, usecols=[\"DS_OBJETO\", \"TP_OBJETO\", \"NR_LICITACAO\"])\n",
    "\n",
    "caminho_item_2016  = pega_caminho(\"2016/item.csv\")\n",
    "l = list(range(1, 456367, 2))\n",
    "\n",
    "data_item_2016 = pd.read_csv(caminho_item_2016, nrows=456367, skiprows=l, usecols=[\"DS_ITEM\", \"VL_UNITARIO_HOMOLOGADO\", \"NR_LICITACAO\"])"
   ]
  },
  {
   "cell_type": "code",
   "execution_count": 7,
   "metadata": {},
   "outputs": [
    {
     "name": "stderr",
     "output_type": "stream",
     "text": [
      "C:\\Users\\Mayara Lopes\\AppData\\Roaming\\Python\\Python39\\site-packages\\IPython\\core\\interactiveshell.py:3361: DtypeWarning: Columns (52,54) have mixed types.Specify dtype option on import or set low_memory=False.\n",
      "  exec(code_obj, self.user_global_ns, self.user_ns)\n",
      "C:\\Users\\Mayara Lopes\\AppData\\Roaming\\Python\\Python39\\site-packages\\IPython\\core\\interactiveshell.py:3361: DtypeWarning: Columns (26) have mixed types.Specify dtype option on import or set low_memory=False.\n",
      "  exec(code_obj, self.user_global_ns, self.user_ns)\n"
     ]
    }
   ],
   "source": [
    "caminho_licitacao_2017  = pega_caminho(\"2017/licitacao.csv\")\n",
    "l = list(range(1, 30000, 10))\n",
    "\n",
    "data_licitacao_2017 = pd.read_csv(caminho_licitacao_2017, skiprows=l)\n",
    "\n",
    "caminho_item_2017  = pega_caminho(\"2017/item.csv\")\n",
    "l = list(range(1, 456367, 2))\n",
    "\n",
    "data_item_2017 = pd.read_csv(caminho_item_2017, nrows=456367, skiprows=l)"
   ]
  },
  {
   "cell_type": "code",
   "execution_count": 8,
   "metadata": {},
   "outputs": [
    {
     "name": "stderr",
     "output_type": "stream",
     "text": [
      "C:\\Users\\Mayara Lopes\\AppData\\Roaming\\Python\\Python39\\site-packages\\IPython\\core\\interactiveshell.py:3361: DtypeWarning: Columns (52,53,54,55) have mixed types.Specify dtype option on import or set low_memory=False.\n",
      "  exec(code_obj, self.user_global_ns, self.user_ns)\n",
      "C:\\Users\\Mayara Lopes\\AppData\\Roaming\\Python\\Python39\\site-packages\\IPython\\core\\interactiveshell.py:3361: DtypeWarning: Columns (8,19,25,26,27,28) have mixed types.Specify dtype option on import or set low_memory=False.\n",
      "  exec(code_obj, self.user_global_ns, self.user_ns)\n"
     ]
    }
   ],
   "source": [
    "caminho_licitacao_2018  = pega_caminho(\"2018/licitacao.csv\")\n",
    "l = list(range(1, 30000, 10))\n",
    "\n",
    "data_licitacao_2018 = pd.read_csv(caminho_licitacao_2018, skiprows=l)\n",
    "\n",
    "caminho_item_2018  = pega_caminho(\"2018/item.csv\")\n",
    "l = list(range(1, 456367, 2))\n",
    "\n",
    "data_item_2018 = pd.read_csv(caminho_item_2018, nrows=456367, skiprows=l)"
   ]
  },
  {
   "cell_type": "code",
   "execution_count": 9,
   "metadata": {},
   "outputs": [
    {
     "name": "stderr",
     "output_type": "stream",
     "text": [
      "C:\\Users\\Mayara Lopes\\AppData\\Roaming\\Python\\Python39\\site-packages\\IPython\\core\\interactiveshell.py:3361: DtypeWarning: Columns (22,53,54) have mixed types.Specify dtype option on import or set low_memory=False.\n",
      "  exec(code_obj, self.user_global_ns, self.user_ns)\n",
      "C:\\Users\\Mayara Lopes\\AppData\\Roaming\\Python\\Python39\\site-packages\\IPython\\core\\interactiveshell.py:3361: DtypeWarning: Columns (8,25,27) have mixed types.Specify dtype option on import or set low_memory=False.\n",
      "  exec(code_obj, self.user_global_ns, self.user_ns)\n"
     ]
    }
   ],
   "source": [
    "caminho_licitacao_2019  = pega_caminho(\"2019/licitacao.csv\")\n",
    "l = list(range(1, 30000, 10))\n",
    "\n",
    "data_licitacao_2019 = pd.read_csv(caminho_licitacao_2019, skiprows=l)\n",
    "\n",
    "caminho_item_2019  = pega_caminho(\"2019/item.csv\")\n",
    "l = list(range(1, 456367, 2))\n",
    "\n",
    "data_item_2019 = pd.read_csv(caminho_item_2019, nrows=456367, skiprows=l)"
   ]
  },
  {
   "cell_type": "markdown",
   "metadata": {},
   "source": [
    "Realizando os tratamentos essenciais para cada dataset:"
   ]
  },
  {
   "cell_type": "code",
   "execution_count": 10,
   "metadata": {},
   "outputs": [],
   "source": [
    "lst_licitacoes, lst_itens = [data_licitacao_2016, data_licitacao_2017, data_licitacao_2018, data_licitacao_2019], [data_item_2016, data_item_2017, data_item_2018, data_item_2019]\n",
    "\n",
    "for licitacoes, itens in zip(lst_licitacoes, lst_itens):\n",
    "    tratar_dataset(licitacoes)\n",
    "    tratar_dataset(itens)"
   ]
  },
  {
   "cell_type": "code",
   "execution_count": 13,
   "metadata": {},
   "outputs": [],
   "source": [
    "for licitacoes in lst_licitacoes:\n",
    "    \n",
    "    licitacoes = licitacoes.astype({\"NR_LICITACAO\": int})"
   ]
  },
  {
   "cell_type": "markdown",
   "metadata": {},
   "source": [
    "Mergeando os arquivos de licitações com de itens:"
   ]
  },
  {
   "cell_type": "code",
   "execution_count": 30,
   "metadata": {},
   "outputs": [],
   "source": [
    "data_geral = data_licitacao_2016.merge(data_item_2016, on=\"NR_LICITACAO\", how='inner')"
   ]
  },
  {
   "cell_type": "code",
   "execution_count": 31,
   "metadata": {},
   "outputs": [
    {
     "data": {
      "text/html": [
       "<div>\n",
       "<style scoped>\n",
       "    .dataframe tbody tr th:only-of-type {\n",
       "        vertical-align: middle;\n",
       "    }\n",
       "\n",
       "    .dataframe tbody tr th {\n",
       "        vertical-align: top;\n",
       "    }\n",
       "\n",
       "    .dataframe thead th {\n",
       "        text-align: right;\n",
       "    }\n",
       "</style>\n",
       "<table border=\"1\" class=\"dataframe\">\n",
       "  <thead>\n",
       "    <tr style=\"text-align: right;\">\n",
       "      <th></th>\n",
       "      <th>NR_LICITACAO</th>\n",
       "      <th>TP_OBJETO</th>\n",
       "      <th>DS_OBJETO</th>\n",
       "      <th>DS_ITEM</th>\n",
       "      <th>VL_UNITARIO_HOMOLOGADO</th>\n",
       "    </tr>\n",
       "  </thead>\n",
       "  <tbody>\n",
       "    <tr>\n",
       "      <th>0</th>\n",
       "      <td>4</td>\n",
       "      <td>COM</td>\n",
       "      <td>Aquisição de merenda escolar</td>\n",
       "      <td>Detergente Neutro 1 L</td>\n",
       "      <td>3.96</td>\n",
       "    </tr>\n",
       "    <tr>\n",
       "      <th>1</th>\n",
       "      <td>4</td>\n",
       "      <td>COM</td>\n",
       "      <td>Aquisição de merenda escolar</td>\n",
       "      <td>Copo descartável 200 ml caixa com 2.500 copos</td>\n",
       "      <td>96.00</td>\n",
       "    </tr>\n",
       "    <tr>\n",
       "      <th>2</th>\n",
       "      <td>4</td>\n",
       "      <td>COM</td>\n",
       "      <td>Aquisição de merenda escolar</td>\n",
       "      <td>Desinfetante de uso geral tira mofo 2 litros</td>\n",
       "      <td>12.90</td>\n",
       "    </tr>\n",
       "    <tr>\n",
       "      <th>3</th>\n",
       "      <td>4</td>\n",
       "      <td>COM</td>\n",
       "      <td>Aquisição de merenda escolar</td>\n",
       "      <td>Saco de lavar chão</td>\n",
       "      <td>7.84</td>\n",
       "    </tr>\n",
       "    <tr>\n",
       "      <th>4</th>\n",
       "      <td>4</td>\n",
       "      <td>COM</td>\n",
       "      <td>Aquisição de merenda escolar</td>\n",
       "      <td>Escova pequena com cerdas macias em material e...</td>\n",
       "      <td>7.77</td>\n",
       "    </tr>\n",
       "    <tr>\n",
       "      <th>...</th>\n",
       "      <td>...</td>\n",
       "      <td>...</td>\n",
       "      <td>...</td>\n",
       "      <td>...</td>\n",
       "      <td>...</td>\n",
       "    </tr>\n",
       "    <tr>\n",
       "      <th>51964286</th>\n",
       "      <td>4409</td>\n",
       "      <td>OUS</td>\n",
       "      <td>Contratação de empresa especializada em serviç...</td>\n",
       "      <td>Sistemas - informe de rendimentos dos serv. WEB</td>\n",
       "      <td>4640.00</td>\n",
       "    </tr>\n",
       "    <tr>\n",
       "      <th>51964287</th>\n",
       "      <td>4409</td>\n",
       "      <td>OUS</td>\n",
       "      <td>Contratação de empresa especializada em serviç...</td>\n",
       "      <td>Sistemas - sistema de saúde, vigilância epidem...</td>\n",
       "      <td>71010.00</td>\n",
       "    </tr>\n",
       "    <tr>\n",
       "      <th>51964288</th>\n",
       "      <td>4409</td>\n",
       "      <td>OUS</td>\n",
       "      <td>Contratação de empresa especializada em serviç...</td>\n",
       "      <td>Sistemas - controle de protocolo WEB (implanta...</td>\n",
       "      <td>11080.00</td>\n",
       "    </tr>\n",
       "    <tr>\n",
       "      <th>51964289</th>\n",
       "      <td>4409</td>\n",
       "      <td>OUS</td>\n",
       "      <td>Contratação de empresa especializada em serviç...</td>\n",
       "      <td>Sistemas - educação municipal (implantação, tr...</td>\n",
       "      <td>NaN</td>\n",
       "    </tr>\n",
       "    <tr>\n",
       "      <th>51964290</th>\n",
       "      <td>2867</td>\n",
       "      <td>CSE</td>\n",
       "      <td>CONTRATAÇÃO DE EMPRESA ESPECIALIZADA EM ASSESS...</td>\n",
       "      <td>CONTRATO SERÁ REAJUSTADO COM BASE NO IGPM(96,7...</td>\n",
       "      <td>6197.88</td>\n",
       "    </tr>\n",
       "  </tbody>\n",
       "</table>\n",
       "<p>51964291 rows × 5 columns</p>\n",
       "</div>"
      ],
      "text/plain": [
       "          NR_LICITACAO TP_OBJETO  \\\n",
       "0                    4       COM   \n",
       "1                    4       COM   \n",
       "2                    4       COM   \n",
       "3                    4       COM   \n",
       "4                    4       COM   \n",
       "...                ...       ...   \n",
       "51964286          4409       OUS   \n",
       "51964287          4409       OUS   \n",
       "51964288          4409       OUS   \n",
       "51964289          4409       OUS   \n",
       "51964290          2867       CSE   \n",
       "\n",
       "                                                  DS_OBJETO  \\\n",
       "0                             Aquisição de merenda escolar    \n",
       "1                             Aquisição de merenda escolar    \n",
       "2                             Aquisição de merenda escolar    \n",
       "3                             Aquisição de merenda escolar    \n",
       "4                             Aquisição de merenda escolar    \n",
       "...                                                     ...   \n",
       "51964286  Contratação de empresa especializada em serviç...   \n",
       "51964287  Contratação de empresa especializada em serviç...   \n",
       "51964288  Contratação de empresa especializada em serviç...   \n",
       "51964289  Contratação de empresa especializada em serviç...   \n",
       "51964290  CONTRATAÇÃO DE EMPRESA ESPECIALIZADA EM ASSESS...   \n",
       "\n",
       "                                                    DS_ITEM  \\\n",
       "0                                    Detergente Neutro 1 L    \n",
       "1             Copo descartável 200 ml caixa com 2.500 copos   \n",
       "2             Desinfetante de uso geral tira mofo 2 litros    \n",
       "3                                       Saco de lavar chão    \n",
       "4         Escova pequena com cerdas macias em material e...   \n",
       "...                                                     ...   \n",
       "51964286    Sistemas - informe de rendimentos dos serv. WEB   \n",
       "51964287  Sistemas - sistema de saúde, vigilância epidem...   \n",
       "51964288  Sistemas - controle de protocolo WEB (implanta...   \n",
       "51964289  Sistemas - educação municipal (implantação, tr...   \n",
       "51964290  CONTRATO SERÁ REAJUSTADO COM BASE NO IGPM(96,7...   \n",
       "\n",
       "          VL_UNITARIO_HOMOLOGADO  \n",
       "0                           3.96  \n",
       "1                          96.00  \n",
       "2                          12.90  \n",
       "3                           7.84  \n",
       "4                           7.77  \n",
       "...                          ...  \n",
       "51964286                 4640.00  \n",
       "51964287                71010.00  \n",
       "51964288                11080.00  \n",
       "51964289                     NaN  \n",
       "51964290                 6197.88  \n",
       "\n",
       "[51964291 rows x 5 columns]"
      ]
     },
     "execution_count": 31,
     "metadata": {},
     "output_type": "execute_result"
    }
   ],
   "source": [
    "data_geral"
   ]
  },
  {
   "cell_type": "markdown",
   "metadata": {},
   "source": [
    "São tipos de pessoaS? Fisca, juridica etc etc"
   ]
  },
  {
   "cell_type": "code",
   "execution_count": 36,
   "metadata": {},
   "outputs": [
    {
     "data": {
      "text/plain": [
       "MANGUEIRA SILICONE 2.1/2\"    80590\n",
       "LIVRO                        74851\n",
       "NÃO CADASTRADO               65823\n",
       "MATERIAL                     50181\n",
       ".                            34239\n",
       "SERVIÇO                      28981\n",
       "CENOURA                      26419\n",
       "BETERRABA                    26036\n",
       "PRODUTOS                     22967\n",
       "BROCA                        21964\n",
       "CEBOLA                       20866\n",
       "REPOLHO                      20823\n",
       "TOMATE                       19836\n",
       "ALFACE                       16971\n",
       "CHUCHU                       16717\n",
       "CADEIRA ESCOLAR              16375\n",
       "MEDICAMENTO                  16254\n",
       "BATATA INGLESA               15984\n",
       "ALHO                         14363\n",
       "GASOLINA COMUM               14056\n",
       "Name: DS_ITEM, dtype: int64"
      ]
     },
     "execution_count": 36,
     "metadata": {},
     "output_type": "execute_result"
    }
   ],
   "source": [
    "data_geral[\"DS_ITEM\"].value_counts()[: 20]"
   ]
  },
  {
   "cell_type": "code",
   "execution_count": 9,
   "metadata": {},
   "outputs": [
    {
     "ename": "NameError",
     "evalue": "name 'data_2016_item' is not defined",
     "output_type": "error",
     "traceback": [
      "\u001b[1;31m---------------------------------------------------------------------------\u001b[0m",
      "\u001b[1;31mNameError\u001b[0m                                 Traceback (most recent call last)",
      "\u001b[1;32mc:\\Users\\Mayara Lopes\\Desktop\\GitHub\\case-brigade\\src\\main.ipynb Cell 24'\u001b[0m in \u001b[0;36m<cell line: 1>\u001b[1;34m()\u001b[0m\n\u001b[1;32m----> <a href='vscode-notebook-cell:/c%3A/Users/Mayara%20Lopes/Desktop/GitHub/case-brigade/src/main.ipynb#ch0000035?line=0'>1</a>\u001b[0m data_2016_item\n",
      "\u001b[1;31mNameError\u001b[0m: name 'data_2016_item' is not defined"
     ]
    }
   ],
   "source": [
    "data_2016_item"
   ]
  },
  {
   "cell_type": "markdown",
   "metadata": {},
   "source": [
    "íamos mergear licitaçõe e itens\n",
    "paramo por aui, chapamos, é sso,  é noissssssss\n",
    "bjs xoxo beck e may <3"
   ]
  },
  {
   "cell_type": "code",
   "execution_count": null,
   "metadata": {},
   "outputs": [],
   "source": [
    "(1225/410731) * 100"
   ]
  },
  {
   "cell_type": "markdown",
   "metadata": {},
   "source": [
    "DE 410731 itens comprados, vemos que 0.2 % dos gastos vão para MANGUEIRA SILICONE 2.1/2 \n",
    "O que é estranhio neh tcheeee"
   ]
  },
  {
   "cell_type": "code",
   "execution_count": 16,
   "metadata": {},
   "outputs": [
    {
     "data": {
      "text/plain": [
       "...                                                                                                                                                                                                                             307\n",
       "AQUISICAO DE MEDICAMENTOS                                                                                                                                                                                                        90\n",
       "MATERIAL                                                                                                                                                                                                                         69\n",
       "CONTRATACAO DE SERVICO                                                                                                                                                                                                           41\n",
       "AQUISICAO                                                                                                                                                                                                                        35\n",
       "                                                                                                                                                                                                                               ... \n",
       "AQUISICAO DE MERENDA ESCOLAR, QUE FAZEM PARTE DOS CARDAPIOS DA ALIMENTACAO ESCOLAR DAS ESCOLAS DE EDUCACAO INFANTIL, CONFORME SOLICITACAO DA SECRETARIA MUNICIPAL DE EDUCACAO, DESCRICAO DETALHADA NO ANEXO 01 DESTE EDITAL.      1\n",
       "CONSTITUI OBJETO DESTA LICITACAO O REGISTRO DE PRECO, PELO PRAZO DE 12 (DOZE) MESES, PARA AQUISICAO FUTURA E PARCELADA DE SACOS DE LIXO PLASTICO                                                                                  1\n",
       "AQUISIAAO DE MANGUEIRAS                                                                                                                                                                                                           1\n",
       "AQUISIAAO DE MERENDA ESCOLAR ORIUNDA DA AGRICULTURA FAMILIAR                                                                                                                                                                      1\n",
       "CONTRATACAO DE EMPRESA PARA PRESTACAO DE SERVICOS DE LIMPEZA E MANUTENCAO DE BANHEIROS PUBLICOS.                                                                                                                                  1\n",
       "Name: DS_OBJETO, Length: 27425, dtype: int64"
      ]
     },
     "execution_count": 16,
     "metadata": {},
     "output_type": "execute_result"
    }
   ],
   "source": [
    "data_2016_licitacao[\"DS_OBJETO\"].value_counts()"
   ]
  },
  {
   "cell_type": "code",
   "execution_count": null,
   "metadata": {},
   "outputs": [
    {
     "data": {
      "text/plain": [
       "COM    11924\n",
       "OUS     8140\n",
       "CSE     6058\n",
       "OSE     2021\n",
       "LOC      339\n",
       "ALB      255\n",
       "CON      161\n",
       "PER       44\n",
       "Name: TP_OBJETO, dtype: int64"
      ]
     },
     "metadata": {},
     "output_type": "display_data"
    }
   ],
   "source": [
    "data_2016_licitacao[\"TP_OBJETO\"].value_counts()"
   ]
  },
  {
   "cell_type": "code",
   "execution_count": 17,
   "metadata": {},
   "outputs": [],
   "source": [
    "data_2016_licitacao_compras = data_2016_licitacao.loc[(data_2016_licitacao[\"TP_OBJETO\"] == \"COM\")]"
   ]
  },
  {
   "cell_type": "code",
   "execution_count": 18,
   "metadata": {},
   "outputs": [
    {
     "data": {
      "text/plain": [
       "COM    12549\n",
       "Name: TP_OBJETO, dtype: int64"
      ]
     },
     "execution_count": 18,
     "metadata": {},
     "output_type": "execute_result"
    }
   ],
   "source": [
    "data_2016_licitacao_compras[\"TP_OBJETO\"].value_counts()"
   ]
  },
  {
   "cell_type": "code",
   "execution_count": 19,
   "metadata": {},
   "outputs": [
    {
     "data": {
      "text/plain": [
       "CD_ORGAO                  0\n",
       "NM_ORGAO                  0\n",
       "NR_LICITACAO              0\n",
       "ANO_LICITACAO             0\n",
       "CD_TIPO_MODALIDADE        0\n",
       "                      ...  \n",
       "BL_GERA_DESPESA           0\n",
       "DS_OBSERVACAO         28873\n",
       "PC_TX_ESTIMADA        30465\n",
       "PC_TX_HOMOLOGADA      30465\n",
       "BL_COMPARTILHADA          0\n",
       "Length: 61, dtype: int64"
      ]
     },
     "execution_count": 19,
     "metadata": {},
     "output_type": "execute_result"
    }
   ],
   "source": [
    "data_2016_licitacao.isna().sum()"
   ]
  },
  {
   "cell_type": "code",
   "execution_count": 20,
   "metadata": {},
   "outputs": [
    {
     "data": {
      "text/plain": [
       "MANGUEIRA SILICONE 2.1/2                    1360\n",
       "MATERIAL                                     878\n",
       "SERVICO                                      369\n",
       "LIVRO                                        355\n",
       ".                                            344\n",
       "                                            ... \n",
       "PONTA DIAMANTADA PARA ALTA ROTACAO 1031        1\n",
       "PONTA DIAMANTADA PARA ALTA ROTACAO 1093        1\n",
       "IONOMETRO DE VIDRO VIDRION R LIQUIDO           1\n",
       "ADESIVO FOTOPOLIMERIZAVEL SINGLE BOND          1\n",
       "SALBUTAMOL 100MCG/DOSE AEROSOL 200 DOSES       1\n",
       "Name: DS_ITEM, Length: 346300, dtype: int64"
      ]
     },
     "execution_count": 20,
     "metadata": {},
     "output_type": "execute_result"
    }
   ],
   "source": [
    "data_2016_item[\"DS_ITEM\"].value_counts()"
   ]
  },
  {
   "cell_type": "code",
   "execution_count": 21,
   "metadata": {},
   "outputs": [
    {
     "data": {
      "text/plain": [
       "0.00        17407\n",
       "3.00         1478\n",
       "4.00         1337\n",
       "20.00        1273\n",
       "5.00         1272\n",
       "            ...  \n",
       "34.06           1\n",
       "21967.66        1\n",
       "17217.46        1\n",
       "223.40          1\n",
       "55826.00        1\n",
       "Name: VL_UNITARIO_HOMOLOGADO, Length: 38076, dtype: int64"
      ]
     },
     "execution_count": 21,
     "metadata": {},
     "output_type": "execute_result"
    }
   ],
   "source": [
    "data_2016_item[\"VL_UNITARIO_HOMOLOGADO\"].value_counts()"
   ]
  },
  {
   "cell_type": "code",
   "execution_count": 8,
   "metadata": {},
   "outputs": [
    {
     "data": {
      "text/html": [
       "<div>\n",
       "<style scoped>\n",
       "    .dataframe tbody tr th:only-of-type {\n",
       "        vertical-align: middle;\n",
       "    }\n",
       "\n",
       "    .dataframe tbody tr th {\n",
       "        vertical-align: top;\n",
       "    }\n",
       "\n",
       "    .dataframe thead th {\n",
       "        text-align: right;\n",
       "    }\n",
       "</style>\n",
       "<table border=\"1\" class=\"dataframe\">\n",
       "  <thead>\n",
       "    <tr style=\"text-align: right;\">\n",
       "      <th></th>\n",
       "      <th>CD_ORGAO</th>\n",
       "      <th>NR_LICITACAO</th>\n",
       "      <th>ANO_LICITACAO</th>\n",
       "      <th>CD_TIPO_MODALIDADE</th>\n",
       "      <th>NR_LOTE</th>\n",
       "      <th>NR_ITEM</th>\n",
       "      <th>NR_ITEM_ORIGINAL</th>\n",
       "      <th>DS_ITEM</th>\n",
       "      <th>QT_ITENS</th>\n",
       "      <th>SG_UNIDADE_MEDIDA</th>\n",
       "      <th>VL_UNITARIO_ESTIMADO</th>\n",
       "      <th>VL_TOTAL_ESTIMADO</th>\n",
       "      <th>DT_REF_VALOR_ESTIMADO</th>\n",
       "      <th>PC_BDI_ESTIMADO</th>\n",
       "      <th>PC_ENCARGOS_SOCIAIS_ESTIMADO</th>\n",
       "      <th>CD_FONTE_REFERENCIA</th>\n",
       "      <th>DS_FONTE_REFERENCIA</th>\n",
       "      <th>TP_RESULTADO_ITEM</th>\n",
       "      <th>VL_UNITARIO_HOMOLOGADO</th>\n",
       "      <th>VL_TOTAL_HOMOLOGADO</th>\n",
       "      <th>PC_BDI_HOMOLOGADO</th>\n",
       "      <th>PC_ENCARGOS_SOCIAIS_HOMOLOGADO</th>\n",
       "      <th>TP_ORCAMENTO</th>\n",
       "      <th>CD_TIPO_FAMILIA</th>\n",
       "      <th>CD_TIPO_SUBFAMILIA</th>\n",
       "      <th>TP_DOCUMENTO</th>\n",
       "      <th>NR_DOCUMENTO</th>\n",
       "      <th>TP_DOCUMENTO.1</th>\n",
       "      <th>NR_DOCUMENTO.1</th>\n",
       "      <th>TP_BENEFICIO_MICRO_EPP</th>\n",
       "      <th>PC_TX_ESTIMADA</th>\n",
       "      <th>PC_TX_HOMOLOGADA</th>\n",
       "    </tr>\n",
       "  </thead>\n",
       "  <tbody>\n",
       "    <tr>\n",
       "      <th>279970</th>\n",
       "      <td>49200</td>\n",
       "      <td>20.0</td>\n",
       "      <td>2016</td>\n",
       "      <td>PRE</td>\n",
       "      <td>1</td>\n",
       "      <td>16</td>\n",
       "      <td>33135</td>\n",
       "      <td>MAMADEIRA</td>\n",
       "      <td>25.0</td>\n",
       "      <td>UN</td>\n",
       "      <td>4.51</td>\n",
       "      <td>112.75</td>\n",
       "      <td>NaN</td>\n",
       "      <td>NaN</td>\n",
       "      <td>NaN</td>\n",
       "      <td>NaN</td>\n",
       "      <td>COTACAO</td>\n",
       "      <td>A</td>\n",
       "      <td>4.51</td>\n",
       "      <td>NaN</td>\n",
       "      <td>NaN</td>\n",
       "      <td>NaN</td>\n",
       "      <td>M</td>\n",
       "      <td>NaN</td>\n",
       "      <td>NaN</td>\n",
       "      <td>J</td>\n",
       "      <td>3.145819e+12</td>\n",
       "      <td>NaN</td>\n",
       "      <td>NaN</td>\n",
       "      <td>L</td>\n",
       "      <td>NaN</td>\n",
       "      <td>NaN</td>\n",
       "    </tr>\n",
       "  </tbody>\n",
       "</table>\n",
       "</div>"
      ],
      "text/plain": [
       "        CD_ORGAO  NR_LICITACAO  ANO_LICITACAO CD_TIPO_MODALIDADE  NR_LOTE  \\\n",
       "279970     49200          20.0           2016                PRE        1   \n",
       "\n",
       "        NR_ITEM NR_ITEM_ORIGINAL    DS_ITEM  QT_ITENS SG_UNIDADE_MEDIDA  \\\n",
       "279970       16            33135  MAMADEIRA      25.0                UN   \n",
       "\n",
       "        VL_UNITARIO_ESTIMADO  VL_TOTAL_ESTIMADO DT_REF_VALOR_ESTIMADO  \\\n",
       "279970                  4.51             112.75                   NaN   \n",
       "\n",
       "        PC_BDI_ESTIMADO  PC_ENCARGOS_SOCIAIS_ESTIMADO CD_FONTE_REFERENCIA  \\\n",
       "279970              NaN                           NaN                 NaN   \n",
       "\n",
       "       DS_FONTE_REFERENCIA TP_RESULTADO_ITEM  VL_UNITARIO_HOMOLOGADO  \\\n",
       "279970             COTACAO                 A                    4.51   \n",
       "\n",
       "       VL_TOTAL_HOMOLOGADO  PC_BDI_HOMOLOGADO  PC_ENCARGOS_SOCIAIS_HOMOLOGADO  \\\n",
       "279970                 NaN                NaN                             NaN   \n",
       "\n",
       "       TP_ORCAMENTO  CD_TIPO_FAMILIA  CD_TIPO_SUBFAMILIA TP_DOCUMENTO  \\\n",
       "279970            M              NaN                 NaN            J   \n",
       "\n",
       "        NR_DOCUMENTO TP_DOCUMENTO.1 NR_DOCUMENTO.1 TP_BENEFICIO_MICRO_EPP  \\\n",
       "279970  3.145819e+12            NaN            NaN                      L   \n",
       "\n",
       "        PC_TX_ESTIMADA  PC_TX_HOMOLOGADA  \n",
       "279970             NaN               NaN  "
      ]
     },
     "execution_count": 8,
     "metadata": {},
     "output_type": "execute_result"
    }
   ],
   "source": [
    "data_2016_item.query('DS_ITEM == \"MAMADEIRA\"')"
   ]
  },
  {
   "cell_type": "code",
   "execution_count": null,
   "metadata": {},
   "outputs": [],
   "source": []
  }
 ],
 "metadata": {
  "kernelspec": {
   "display_name": "Python 3.9.10 64-bit",
   "language": "python",
   "name": "python3"
  },
  "language_info": {
   "codemirror_mode": {
    "name": "ipython",
    "version": 3
   },
   "file_extension": ".py",
   "mimetype": "text/x-python",
   "name": "python",
   "nbconvert_exporter": "python",
   "pygments_lexer": "ipython3",
   "version": "3.9.10"
  },
  "orig_nbformat": 4,
  "vscode": {
   "interpreter": {
    "hash": "32977651cd093788b890d8adb6356bcd28584de1a2bd80a3ba14d7b554e6ba84"
   }
  }
 },
 "nbformat": 4,
 "nbformat_minor": 2
}

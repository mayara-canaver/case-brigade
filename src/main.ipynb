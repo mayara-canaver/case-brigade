{
 "cells": [
  {
   "cell_type": "markdown",
   "metadata": {},
   "source": [
    "Sessão para importar pacotes externos."
   ]
  },
  {
   "cell_type": "code",
   "execution_count": 25,
   "metadata": {},
   "outputs": [],
   "source": [
    "import pandas as pd\n",
    "import os\n",
    "\n",
    "from pandas.api.types import is_string_dtype\n"
   ]
  },
  {
   "cell_type": "markdown",
   "metadata": {},
   "source": [
    "Configurações."
   ]
  },
  {
   "cell_type": "code",
   "execution_count": 26,
   "metadata": {},
   "outputs": [],
   "source": [
    "pd.options.display.max_columns = None"
   ]
  },
  {
   "cell_type": "markdown",
   "metadata": {},
   "source": [
    "Funções gerais úteis."
   ]
  },
  {
   "cell_type": "code",
   "execution_count": 27,
   "metadata": {},
   "outputs": [],
   "source": [
    "def pega_caminho(nome_arquivo: str):\n",
    "    caminho = os.path.abspath(f\"../data/{nome_arquivo}\")\n",
    "    return caminho"
   ]
  },
  {
   "cell_type": "code",
   "execution_count": 40,
   "metadata": {},
   "outputs": [],
   "source": [
    "def tratar_dataset(dataset):\n",
    "\n",
    "    dataset.drop_duplicates(inplace=True)\n",
    "    #dataset.dropna(inplace=True)\n",
    "    \n",
    "    for coluna in dataset.columns:\n",
    "        if is_string_dtype(dataset[coluna]):\n",
    "            dataset[coluna] = dataset[coluna].str.normalize('NFKD').str.encode('ascii', errors='ignore').str.decode('utf-8')\n",
    "            dataset[coluna] = dataset[coluna].str.upper()\n",
    "            dataset[coluna] = dataset[coluna].str.replace('\"', \"\")\n",
    "\n",
    "            \n",
    "    dataset.columns = map(str.upper, dataset.columns)\n",
    "    \n",
    "    return dataset"
   ]
  },
  {
   "cell_type": "markdown",
   "metadata": {},
   "source": [
    "Lendo o dataset."
   ]
  },
  {
   "cell_type": "code",
   "execution_count": 59,
   "metadata": {},
   "outputs": [],
   "source": [
    "caminho_licitacao  = pega_caminho(\"2016/licitacao.csv\")\n",
    "\n",
    "data_2016_licitacao = pd.read_csv(caminho_licitacao, nrows=456367, skiprows=range(1, 456367, 100))"
   ]
  },
  {
   "cell_type": "code",
   "execution_count": 42,
   "metadata": {},
   "outputs": [
    {
     "name": "stderr",
     "output_type": "stream",
     "text": [
      "C:\\Users\\Mayara Lopes\\AppData\\Roaming\\Python\\Python39\\site-packages\\IPython\\core\\interactiveshell.py:3361: DtypeWarning: Columns (19,27,28) have mixed types.Specify dtype option on import or set low_memory=False.\n",
      "  exec(code_obj, self.user_global_ns, self.user_ns)\n"
     ]
    }
   ],
   "source": [
    "caminho_item  = pega_caminho(\"2016/item.csv\")\n",
    "\n",
    "data_2016_item = pd.read_csv(caminho_item, nrows=456367, skiprows=range(1, 456367, 100))"
   ]
  },
  {
   "cell_type": "code",
   "execution_count": null,
   "metadata": {},
   "outputs": [],
   "source": [
    "tratar_dataset(data_2016_item)\n",
    "tratar_dataset(data_2016_licitacao)"
   ]
  },
  {
   "cell_type": "code",
   "execution_count": 45,
   "metadata": {},
   "outputs": [],
   "source": [
    "data_2016_item = data_2016_item.drop([\"SG_UNIDADE_MEDIDA\", \"VL_UNITARIO_ESTIMADO\", \"VL_TOTAL_ESTIMADO\", \"DT_REF_VALOR_ESTIMADO\", \"PC_BDI_ESTIMADO\", \"PC_ENCARGOS_SOCIAIS_ESTIMADO\",\n",
    "                                    \"CD_FONTE_REFERENCIA\", \"DS_FONTE_REFERENCIA\", \"TP_RESULTADO_ITEM\", \"VL_UNITARIO_HOMOLOGADO\", \"VL_TOTAL_HOMOLOGADO\", \"PC_BDI_HOMOLOGADO\", \n",
    "                                    \"PC_ENCARGOS_SOCIAIS_HOMOLOGADO\", \"TP_ORCAMENTO\", \"CD_TIPO_FAMILIA\", \"CD_TIPO_SUBFAMILIA\", \"TP_DOCUMENTO.1\", \"NR_DOCUMENTO.1\",\n",
    "                                    \"TP_BENEFICIO_MICRO_EPP\", \"PC_TX_ESTIMADA\", \"PC_TX_HOMOLOGADA\"], axis=1)"
   ]
  },
  {
   "cell_type": "code",
   "execution_count": 61,
   "metadata": {},
   "outputs": [],
   "source": [
    "data_2016_licitacao = data_2016_licitacao.drop([\"CD_TIPO_MODALIDADE\", \"BL_GERA_DESPESA\", \"PC_TX_ESTIMADA\", \"PC_TX_HOMOLOGADA\", \"BL_COMPARTILHADA\", \"VL_HOMOLOGADO\", \n",
    "                                    \"NR_DOCUMENTO_VENCEDOR\", \"DT_ATA_REGISTRO_PRECO\", \"NR_ATA_REGISTRO_PRECO\", \"ANO_LICITACAO_ORIGINAL\", \"NR_LICITACAO_ORIGINAL\",\n",
    "                                    \"TP_ATUACAO_REGISTRO\", \"TP_FORNECIMENTO\", \"TP_BENEFICIO_MICRO_EPP\", \"BL_PERMITE_SUBCONTRATACAO\", \"TP_REGIME_EXECUCAO\", \"TP_NATUREZA\",\n",
    "                                    \"TP_CARACTERISTICA_OBJETO\", \"DT_AUTORIZACAO_ADESAO\", \"TP_NIVEL_JULGAMENTO\", \"DS_LEI\", \"DS_INCISO\", \"NR_ARTIGO\", \"CD_TIPO_FUNDAMENTACAO\",\n",
    "                                    \"NM_ORGAO_GERENCIADOR\", \"CNPJ_ORGAO_GERENCIADOR\", \"TP_RESULTADO_GLOBAL\", \"BL_INVERSAO_FASES\", \"TP_PREQUALIFICACAO\",\n",
    "                                    \"TP_DOCUMENTO_FORNECEDOR\", \"NR_DOCUMENTO_FORNECEDOR\", \"TP_DOCUMENTO_VENCEDOR\", \"DT_ABERTURA\", \"BL_PERMITE_CONSORCIO\",\n",
    "                                    \"BL_RECEBE_INSCRICAO_PER_VIG\", \"BL_ORCAMENTO_SIGILOSO\", \"VL_LICITACAO\", \"DT_FIM_VIGEN_CRED\", \"DT_INICIO_VIGEN_CRED\",\n",
    "                                    \"DT_FIM_INSCR_CRED\", \"DT_INICIO_INSCR_CRED\", \"TP_DISPUTA\", \"TP_EXECUCAO\", \"PC_TAXA_RISCO\", \"CD_TIPO_FASE_ATUAL\",\n",
    "                                    \"DT_HOMOLOGACAO\", \"DT_ADJUDICACAO\", \"BL_LICIT_PROPRIA_ORGAO\"], axis=1)"
   ]
  },
  {
   "cell_type": "code",
   "execution_count": 62,
   "metadata": {},
   "outputs": [
    {
     "data": {
      "text/plain": [
       "CD_ORGAO             0\n",
       "NM_ORGAO             0\n",
       "NR_LICITACAO         0\n",
       "ANO_LICITACAO        0\n",
       "NR_COMISSAO       8451\n",
       "ANO_COMISSAO      8451\n",
       "TP_COMISSAO       8451\n",
       "NR_PROCESSO          0\n",
       "ANO_PROCESSO         0\n",
       "TP_OBJETO            0\n",
       "TP_LICITACAO         0\n",
       "DS_OBJETO            0\n",
       "DS_OBSERVACAO    28583\n",
       "dtype: int64"
      ]
     },
     "execution_count": 62,
     "metadata": {},
     "output_type": "execute_result"
    }
   ],
   "source": [
    "data_2016_licitacao.isna().sum()"
   ]
  },
  {
   "cell_type": "code",
   "execution_count": 32,
   "metadata": {},
   "outputs": [
    {
     "ename": "MemoryError",
     "evalue": "Unable to allocate 14.5 GiB for an array with shape (14, 138973710) and data type float64",
     "output_type": "error",
     "traceback": [
      "\u001b[1;31m---------------------------------------------------------------------------\u001b[0m",
      "\u001b[1;31mMemoryError\u001b[0m                               Traceback (most recent call last)",
      "\u001b[1;32mc:\\Users\\Mayara Lopes\\Downloads\\project\\teste-brigade\\src\\main.ipynb Cell 12'\u001b[0m in \u001b[0;36m<cell line: 1>\u001b[1;34m()\u001b[0m\n\u001b[1;32m----> <a href='vscode-notebook-cell:/c%3A/Users/Mayara%20Lopes/Downloads/project/teste-brigade/src/main.ipynb#ch0000027?line=0'>1</a>\u001b[0m data_geral \u001b[39m=\u001b[39m pd\u001b[39m.\u001b[39;49mmerge(data_2016_item, data_2016_licitacao, on\u001b[39m=\u001b[39;49m\u001b[39m\"\u001b[39;49m\u001b[39mNR_LICITACAO\u001b[39;49m\u001b[39m\"\u001b[39;49m)\n",
      "File \u001b[1;32mc:\\Users\\Mayara Lopes\\AppData\\Local\\Programs\\Python\\Python39\\lib\\site-packages\\pandas\\core\\reshape\\merge.py:121\u001b[0m, in \u001b[0;36mmerge\u001b[1;34m(left, right, how, on, left_on, right_on, left_index, right_index, sort, suffixes, copy, indicator, validate)\u001b[0m\n\u001b[0;32m     89\u001b[0m \u001b[39m@Substitution\u001b[39m(\u001b[39m\"\u001b[39m\u001b[39m\\n\u001b[39;00m\u001b[39mleft : DataFrame or named Series\u001b[39m\u001b[39m\"\u001b[39m)\n\u001b[0;32m     90\u001b[0m \u001b[39m@Appender\u001b[39m(_merge_doc, indents\u001b[39m=\u001b[39m\u001b[39m0\u001b[39m)\n\u001b[0;32m     91\u001b[0m \u001b[39mdef\u001b[39;00m \u001b[39mmerge\u001b[39m(\n\u001b[1;32m   (...)\u001b[0m\n\u001b[0;32m    104\u001b[0m     validate: \u001b[39mstr\u001b[39m \u001b[39m|\u001b[39m \u001b[39mNone\u001b[39;00m \u001b[39m=\u001b[39m \u001b[39mNone\u001b[39;00m,\n\u001b[0;32m    105\u001b[0m ) \u001b[39m-\u001b[39m\u001b[39m>\u001b[39m DataFrame:\n\u001b[0;32m    106\u001b[0m     op \u001b[39m=\u001b[39m _MergeOperation(\n\u001b[0;32m    107\u001b[0m         left,\n\u001b[0;32m    108\u001b[0m         right,\n\u001b[1;32m   (...)\u001b[0m\n\u001b[0;32m    119\u001b[0m         validate\u001b[39m=\u001b[39mvalidate,\n\u001b[0;32m    120\u001b[0m     )\n\u001b[1;32m--> 121\u001b[0m     \u001b[39mreturn\u001b[39;00m op\u001b[39m.\u001b[39;49mget_result()\n",
      "File \u001b[1;32mc:\\Users\\Mayara Lopes\\AppData\\Local\\Programs\\Python\\Python39\\lib\\site-packages\\pandas\\core\\reshape\\merge.py:724\u001b[0m, in \u001b[0;36m_MergeOperation.get_result\u001b[1;34m(self)\u001b[0m\n\u001b[0;32m    721\u001b[0m lindexers \u001b[39m=\u001b[39m {\u001b[39m1\u001b[39m: left_indexer} \u001b[39mif\u001b[39;00m left_indexer \u001b[39mis\u001b[39;00m \u001b[39mnot\u001b[39;00m \u001b[39mNone\u001b[39;00m \u001b[39melse\u001b[39;00m {}\n\u001b[0;32m    722\u001b[0m rindexers \u001b[39m=\u001b[39m {\u001b[39m1\u001b[39m: right_indexer} \u001b[39mif\u001b[39;00m right_indexer \u001b[39mis\u001b[39;00m \u001b[39mnot\u001b[39;00m \u001b[39mNone\u001b[39;00m \u001b[39melse\u001b[39;00m {}\n\u001b[1;32m--> 724\u001b[0m result_data \u001b[39m=\u001b[39m concatenate_managers(\n\u001b[0;32m    725\u001b[0m     [(\u001b[39mself\u001b[39;49m\u001b[39m.\u001b[39;49mleft\u001b[39m.\u001b[39;49m_mgr, lindexers), (\u001b[39mself\u001b[39;49m\u001b[39m.\u001b[39;49mright\u001b[39m.\u001b[39;49m_mgr, rindexers)],\n\u001b[0;32m    726\u001b[0m     axes\u001b[39m=\u001b[39;49m[llabels\u001b[39m.\u001b[39;49mappend(rlabels), join_index],\n\u001b[0;32m    727\u001b[0m     concat_axis\u001b[39m=\u001b[39;49m\u001b[39m0\u001b[39;49m,\n\u001b[0;32m    728\u001b[0m     copy\u001b[39m=\u001b[39;49m\u001b[39mself\u001b[39;49m\u001b[39m.\u001b[39;49mcopy,\n\u001b[0;32m    729\u001b[0m )\n\u001b[0;32m    731\u001b[0m typ \u001b[39m=\u001b[39m \u001b[39mself\u001b[39m\u001b[39m.\u001b[39mleft\u001b[39m.\u001b[39m_constructor\n\u001b[0;32m    732\u001b[0m result \u001b[39m=\u001b[39m typ(result_data)\u001b[39m.\u001b[39m__finalize__(\u001b[39mself\u001b[39m, method\u001b[39m=\u001b[39m\u001b[39mself\u001b[39m\u001b[39m.\u001b[39m_merge_type)\n",
      "File \u001b[1;32mc:\\Users\\Mayara Lopes\\AppData\\Local\\Programs\\Python\\Python39\\lib\\site-packages\\pandas\\core\\internals\\concat.py:226\u001b[0m, in \u001b[0;36mconcatenate_managers\u001b[1;34m(mgrs_indexers, axes, concat_axis, copy)\u001b[0m\n\u001b[0;32m    224\u001b[0m     fastpath \u001b[39m=\u001b[39m blk\u001b[39m.\u001b[39mvalues\u001b[39m.\u001b[39mdtype \u001b[39m==\u001b[39m values\u001b[39m.\u001b[39mdtype\n\u001b[0;32m    225\u001b[0m \u001b[39melse\u001b[39;00m:\n\u001b[1;32m--> 226\u001b[0m     values \u001b[39m=\u001b[39m _concatenate_join_units(join_units, concat_axis, copy\u001b[39m=\u001b[39;49mcopy)\n\u001b[0;32m    227\u001b[0m     fastpath \u001b[39m=\u001b[39m \u001b[39mFalse\u001b[39;00m\n\u001b[0;32m    229\u001b[0m \u001b[39mif\u001b[39;00m fastpath:\n",
      "File \u001b[1;32mc:\\Users\\Mayara Lopes\\AppData\\Local\\Programs\\Python\\Python39\\lib\\site-packages\\pandas\\core\\internals\\concat.py:490\u001b[0m, in \u001b[0;36m_concatenate_join_units\u001b[1;34m(join_units, concat_axis, copy)\u001b[0m\n\u001b[0;32m    487\u001b[0m has_none_blocks \u001b[39m=\u001b[39m \u001b[39many\u001b[39m(unit\u001b[39m.\u001b[39mblock \u001b[39mis\u001b[39;00m \u001b[39mNone\u001b[39;00m \u001b[39mfor\u001b[39;00m unit \u001b[39min\u001b[39;00m join_units)\n\u001b[0;32m    488\u001b[0m upcasted_na \u001b[39m=\u001b[39m _dtype_to_na_value(empty_dtype, has_none_blocks)\n\u001b[1;32m--> 490\u001b[0m to_concat \u001b[39m=\u001b[39m [\n\u001b[0;32m    491\u001b[0m     ju\u001b[39m.\u001b[39mget_reindexed_values(empty_dtype\u001b[39m=\u001b[39mempty_dtype, upcasted_na\u001b[39m=\u001b[39mupcasted_na)\n\u001b[0;32m    492\u001b[0m     \u001b[39mfor\u001b[39;00m ju \u001b[39min\u001b[39;00m join_units\n\u001b[0;32m    493\u001b[0m ]\n\u001b[0;32m    495\u001b[0m \u001b[39mif\u001b[39;00m \u001b[39mlen\u001b[39m(to_concat) \u001b[39m==\u001b[39m \u001b[39m1\u001b[39m:\n\u001b[0;32m    496\u001b[0m     \u001b[39m# Only one block, nothing to concatenate.\u001b[39;00m\n\u001b[0;32m    497\u001b[0m     concat_values \u001b[39m=\u001b[39m to_concat[\u001b[39m0\u001b[39m]\n",
      "File \u001b[1;32mc:\\Users\\Mayara Lopes\\AppData\\Local\\Programs\\Python\\Python39\\lib\\site-packages\\pandas\\core\\internals\\concat.py:491\u001b[0m, in \u001b[0;36m<listcomp>\u001b[1;34m(.0)\u001b[0m\n\u001b[0;32m    487\u001b[0m has_none_blocks \u001b[39m=\u001b[39m \u001b[39many\u001b[39m(unit\u001b[39m.\u001b[39mblock \u001b[39mis\u001b[39;00m \u001b[39mNone\u001b[39;00m \u001b[39mfor\u001b[39;00m unit \u001b[39min\u001b[39;00m join_units)\n\u001b[0;32m    488\u001b[0m upcasted_na \u001b[39m=\u001b[39m _dtype_to_na_value(empty_dtype, has_none_blocks)\n\u001b[0;32m    490\u001b[0m to_concat \u001b[39m=\u001b[39m [\n\u001b[1;32m--> 491\u001b[0m     ju\u001b[39m.\u001b[39;49mget_reindexed_values(empty_dtype\u001b[39m=\u001b[39;49mempty_dtype, upcasted_na\u001b[39m=\u001b[39;49mupcasted_na)\n\u001b[0;32m    492\u001b[0m     \u001b[39mfor\u001b[39;00m ju \u001b[39min\u001b[39;00m join_units\n\u001b[0;32m    493\u001b[0m ]\n\u001b[0;32m    495\u001b[0m \u001b[39mif\u001b[39;00m \u001b[39mlen\u001b[39m(to_concat) \u001b[39m==\u001b[39m \u001b[39m1\u001b[39m:\n\u001b[0;32m    496\u001b[0m     \u001b[39m# Only one block, nothing to concatenate.\u001b[39;00m\n\u001b[0;32m    497\u001b[0m     concat_values \u001b[39m=\u001b[39m to_concat[\u001b[39m0\u001b[39m]\n",
      "File \u001b[1;32mc:\\Users\\Mayara Lopes\\AppData\\Local\\Programs\\Python\\Python39\\lib\\site-packages\\pandas\\core\\internals\\concat.py:470\u001b[0m, in \u001b[0;36mJoinUnit.get_reindexed_values\u001b[1;34m(self, empty_dtype, upcasted_na)\u001b[0m\n\u001b[0;32m    468\u001b[0m \u001b[39melse\u001b[39;00m:\n\u001b[0;32m    469\u001b[0m     \u001b[39mfor\u001b[39;00m ax, indexer \u001b[39min\u001b[39;00m \u001b[39mself\u001b[39m\u001b[39m.\u001b[39mindexers\u001b[39m.\u001b[39mitems():\n\u001b[1;32m--> 470\u001b[0m         values \u001b[39m=\u001b[39m algos\u001b[39m.\u001b[39;49mtake_nd(values, indexer, axis\u001b[39m=\u001b[39;49max)\n\u001b[0;32m    472\u001b[0m \u001b[39mreturn\u001b[39;00m values\n",
      "File \u001b[1;32mc:\\Users\\Mayara Lopes\\AppData\\Local\\Programs\\Python\\Python39\\lib\\site-packages\\pandas\\core\\array_algos\\take.py:108\u001b[0m, in \u001b[0;36mtake_nd\u001b[1;34m(arr, indexer, axis, fill_value, allow_fill)\u001b[0m\n\u001b[0;32m    105\u001b[0m     \u001b[39mreturn\u001b[39;00m arr\u001b[39m.\u001b[39mtake(indexer, fill_value\u001b[39m=\u001b[39mfill_value, allow_fill\u001b[39m=\u001b[39mallow_fill)\n\u001b[0;32m    107\u001b[0m arr \u001b[39m=\u001b[39m np\u001b[39m.\u001b[39masarray(arr)\n\u001b[1;32m--> 108\u001b[0m \u001b[39mreturn\u001b[39;00m _take_nd_ndarray(arr, indexer, axis, fill_value, allow_fill)\n",
      "File \u001b[1;32mc:\\Users\\Mayara Lopes\\AppData\\Local\\Programs\\Python\\Python39\\lib\\site-packages\\pandas\\core\\array_algos\\take.py:149\u001b[0m, in \u001b[0;36m_take_nd_ndarray\u001b[1;34m(arr, indexer, axis, fill_value, allow_fill)\u001b[0m\n\u001b[0;32m    147\u001b[0m     out \u001b[39m=\u001b[39m np\u001b[39m.\u001b[39mempty(out_shape, dtype\u001b[39m=\u001b[39mdtype, order\u001b[39m=\u001b[39m\u001b[39m\"\u001b[39m\u001b[39mF\u001b[39m\u001b[39m\"\u001b[39m)\n\u001b[0;32m    148\u001b[0m \u001b[39melse\u001b[39;00m:\n\u001b[1;32m--> 149\u001b[0m     out \u001b[39m=\u001b[39m np\u001b[39m.\u001b[39;49mempty(out_shape, dtype\u001b[39m=\u001b[39;49mdtype)\n\u001b[0;32m    151\u001b[0m func \u001b[39m=\u001b[39m _get_take_nd_function(\n\u001b[0;32m    152\u001b[0m     arr\u001b[39m.\u001b[39mndim, arr\u001b[39m.\u001b[39mdtype, out\u001b[39m.\u001b[39mdtype, axis\u001b[39m=\u001b[39maxis, mask_info\u001b[39m=\u001b[39mmask_info\n\u001b[0;32m    153\u001b[0m )\n\u001b[0;32m    154\u001b[0m func(arr, indexer, out, fill_value)\n",
      "\u001b[1;31mMemoryError\u001b[0m: Unable to allocate 14.5 GiB for an array with shape (14, 138973710) and data type float64"
     ]
    }
   ],
   "source": [
    "data_geral = pd.merge(data_2016_item, data_2016_licitacao, on=\"NR_LICITACAO\")"
   ]
  },
  {
   "cell_type": "code",
   "execution_count": 22,
   "metadata": {},
   "outputs": [
    {
     "data": {
      "text/plain": [
       "Index(['CD_ORGAO', 'NM_ORGAO', 'NR_LICITACAO', 'ANO_LICITACAO',\n",
       "       'CD_TIPO_MODALIDADE', 'NR_COMISSAO', 'ANO_COMISSAO', 'TP_COMISSAO',\n",
       "       'NR_PROCESSO', 'ANO_PROCESSO', 'TP_OBJETO', 'CD_TIPO_FASE_ATUAL',\n",
       "       'TP_LICITACAO', 'TP_NIVEL_JULGAMENTO', 'DT_AUTORIZACAO_ADESAO',\n",
       "       'TP_CARACTERISTICA_OBJETO', 'TP_NATUREZA', 'TP_REGIME_EXECUCAO',\n",
       "       'BL_PERMITE_SUBCONTRATACAO', 'TP_BENEFICIO_MICRO_EPP',\n",
       "       'TP_FORNECIMENTO', 'TP_ATUACAO_REGISTRO', 'NR_LICITACAO_ORIGINAL',\n",
       "       'ANO_LICITACAO_ORIGINAL', 'NR_ATA_REGISTRO_PRECO',\n",
       "       'DT_ATA_REGISTRO_PRECO', 'PC_TAXA_RISCO', 'TP_EXECUCAO', 'TP_DISPUTA',\n",
       "       'TP_PREQUALIFICACAO', 'BL_INVERSAO_FASES', 'TP_RESULTADO_GLOBAL',\n",
       "       'CNPJ_ORGAO_GERENCIADOR', 'NM_ORGAO_GERENCIADOR', 'DS_OBJETO',\n",
       "       'CD_TIPO_FUNDAMENTACAO', 'NR_ARTIGO', 'DS_INCISO', 'DS_LEI',\n",
       "       'DT_INICIO_INSCR_CRED', 'DT_FIM_INSCR_CRED', 'DT_INICIO_VIGEN_CRED',\n",
       "       'DT_FIM_VIGEN_CRED', 'VL_LICITACAO', 'BL_ORCAMENTO_SIGILOSO',\n",
       "       'BL_RECEBE_INSCRICAO_PER_VIG', 'BL_PERMITE_CONSORCIO', 'DT_ABERTURA',\n",
       "       'DT_HOMOLOGACAO', 'DT_ADJUDICACAO', 'BL_LICIT_PROPRIA_ORGAO',\n",
       "       'TP_DOCUMENTO_FORNECEDOR', 'NR_DOCUMENTO_FORNECEDOR',\n",
       "       'TP_DOCUMENTO_VENCEDOR', 'NR_DOCUMENTO_VENCEDOR', 'VL_HOMOLOGADO',\n",
       "       'BL_GERA_DESPESA', 'DS_OBSERVACAO', 'PC_TX_ESTIMADA',\n",
       "       'PC_TX_HOMOLOGADA', 'BL_COMPARTILHADA'],\n",
       "      dtype='object')"
      ]
     },
     "execution_count": 22,
     "metadata": {},
     "output_type": "execute_result"
    }
   ],
   "source": [
    "data_geral"
   ]
  },
  {
   "cell_type": "code",
   "execution_count": 14,
   "metadata": {},
   "outputs": [
    {
     "data": {
      "text/plain": [
       "0         15.0\n",
       "1         15.0\n",
       "2         15.0\n",
       "3         15.0\n",
       "4         15.0\n",
       "          ... \n",
       "456363    13.0\n",
       "456364    13.0\n",
       "456365    13.0\n",
       "456366    13.0\n",
       "456367    13.0\n",
       "Name: NR_LICITACAO, Length: 456368, dtype: float64"
      ]
     },
     "execution_count": 14,
     "metadata": {},
     "output_type": "execute_result"
    }
   ],
   "source": [
    "data_2016_item[\"NR_LICITACAO\"]"
   ]
  },
  {
   "cell_type": "markdown",
   "metadata": {},
   "source": [
    "São tipos de pessoaS? Fisca, juridica etc etc"
   ]
  },
  {
   "cell_type": "code",
   "execution_count": 15,
   "metadata": {},
   "outputs": [
    {
     "data": {
      "text/plain": [
       "MANGUEIRA SILICONE 2.1/2                    1360\n",
       "MATERIAL                                     878\n",
       "SERVICO                                      369\n",
       "LIVRO                                        355\n",
       ".                                            344\n",
       "                                            ... \n",
       "PONTA DIAMANTADA PARA ALTA ROTACAO 1031        1\n",
       "PONTA DIAMANTADA PARA ALTA ROTACAO 1093        1\n",
       "IONOMETRO DE VIDRO VIDRION R LIQUIDO           1\n",
       "ADESIVO FOTOPOLIMERIZAVEL SINGLE BOND          1\n",
       "SALBUTAMOL 100MCG/DOSE AEROSOL 200 DOSES       1\n",
       "Name: DS_ITEM, Length: 346300, dtype: int64"
      ]
     },
     "execution_count": 15,
     "metadata": {},
     "output_type": "execute_result"
    }
   ],
   "source": [
    "data_2016_item[\"DS_ITEM\"].value_counts()"
   ]
  },
  {
   "cell_type": "markdown",
   "metadata": {},
   "source": [
    "íamos mergear licitaçõe e itens\n",
    "paramo por aui, chapamos, é sso,  é noissssssss\n",
    "bjs xoxo beck e may <3"
   ]
  },
  {
   "cell_type": "code",
   "execution_count": null,
   "metadata": {},
   "outputs": [],
   "source": [
    "(1225/410731) * 100"
   ]
  },
  {
   "cell_type": "markdown",
   "metadata": {},
   "source": [
    "DE 410731 itens comprados, vemos que 0.2 % dos gastos vão para MANGUEIRA SILICONE 2.1/2 \n",
    "O que é estranhio neh tcheeee"
   ]
  },
  {
   "cell_type": "code",
   "execution_count": 16,
   "metadata": {},
   "outputs": [
    {
     "data": {
      "text/plain": [
       "...                                                                                                                                                                                                                             307\n",
       "AQUISICAO DE MEDICAMENTOS                                                                                                                                                                                                        90\n",
       "MATERIAL                                                                                                                                                                                                                         69\n",
       "CONTRATACAO DE SERVICO                                                                                                                                                                                                           41\n",
       "AQUISICAO                                                                                                                                                                                                                        35\n",
       "                                                                                                                                                                                                                               ... \n",
       "AQUISICAO DE MERENDA ESCOLAR, QUE FAZEM PARTE DOS CARDAPIOS DA ALIMENTACAO ESCOLAR DAS ESCOLAS DE EDUCACAO INFANTIL, CONFORME SOLICITACAO DA SECRETARIA MUNICIPAL DE EDUCACAO, DESCRICAO DETALHADA NO ANEXO 01 DESTE EDITAL.      1\n",
       "CONSTITUI OBJETO DESTA LICITACAO O REGISTRO DE PRECO, PELO PRAZO DE 12 (DOZE) MESES, PARA AQUISICAO FUTURA E PARCELADA DE SACOS DE LIXO PLASTICO                                                                                  1\n",
       "AQUISIAAO DE MANGUEIRAS                                                                                                                                                                                                           1\n",
       "AQUISIAAO DE MERENDA ESCOLAR ORIUNDA DA AGRICULTURA FAMILIAR                                                                                                                                                                      1\n",
       "CONTRATACAO DE EMPRESA PARA PRESTACAO DE SERVICOS DE LIMPEZA E MANUTENCAO DE BANHEIROS PUBLICOS.                                                                                                                                  1\n",
       "Name: DS_OBJETO, Length: 27425, dtype: int64"
      ]
     },
     "execution_count": 16,
     "metadata": {},
     "output_type": "execute_result"
    }
   ],
   "source": [
    "data_2016_licitacao[\"DS_OBJETO\"].value_counts()"
   ]
  },
  {
   "cell_type": "code",
   "execution_count": null,
   "metadata": {},
   "outputs": [
    {
     "data": {
      "text/plain": [
       "COM    11924\n",
       "OUS     8140\n",
       "CSE     6058\n",
       "OSE     2021\n",
       "LOC      339\n",
       "ALB      255\n",
       "CON      161\n",
       "PER       44\n",
       "Name: TP_OBJETO, dtype: int64"
      ]
     },
     "metadata": {},
     "output_type": "display_data"
    }
   ],
   "source": [
    "data_2016_licitacao[\"TP_OBJETO\"].value_counts()"
   ]
  },
  {
   "cell_type": "code",
   "execution_count": 17,
   "metadata": {},
   "outputs": [],
   "source": [
    "data_2016_licitacao_compras = data_2016_licitacao.loc[(data_2016_licitacao[\"TP_OBJETO\"] == \"COM\")]"
   ]
  },
  {
   "cell_type": "code",
   "execution_count": 18,
   "metadata": {},
   "outputs": [
    {
     "data": {
      "text/plain": [
       "COM    12549\n",
       "Name: TP_OBJETO, dtype: int64"
      ]
     },
     "execution_count": 18,
     "metadata": {},
     "output_type": "execute_result"
    }
   ],
   "source": [
    "data_2016_licitacao_compras[\"TP_OBJETO\"].value_counts()"
   ]
  },
  {
   "cell_type": "code",
   "execution_count": 19,
   "metadata": {},
   "outputs": [
    {
     "data": {
      "text/plain": [
       "CD_ORGAO                  0\n",
       "NM_ORGAO                  0\n",
       "NR_LICITACAO              0\n",
       "ANO_LICITACAO             0\n",
       "CD_TIPO_MODALIDADE        0\n",
       "                      ...  \n",
       "BL_GERA_DESPESA           0\n",
       "DS_OBSERVACAO         28873\n",
       "PC_TX_ESTIMADA        30465\n",
       "PC_TX_HOMOLOGADA      30465\n",
       "BL_COMPARTILHADA          0\n",
       "Length: 61, dtype: int64"
      ]
     },
     "execution_count": 19,
     "metadata": {},
     "output_type": "execute_result"
    }
   ],
   "source": [
    "data_2016_licitacao.isna().sum()"
   ]
  },
  {
   "cell_type": "code",
   "execution_count": 20,
   "metadata": {},
   "outputs": [
    {
     "data": {
      "text/plain": [
       "MANGUEIRA SILICONE 2.1/2                    1360\n",
       "MATERIAL                                     878\n",
       "SERVICO                                      369\n",
       "LIVRO                                        355\n",
       ".                                            344\n",
       "                                            ... \n",
       "PONTA DIAMANTADA PARA ALTA ROTACAO 1031        1\n",
       "PONTA DIAMANTADA PARA ALTA ROTACAO 1093        1\n",
       "IONOMETRO DE VIDRO VIDRION R LIQUIDO           1\n",
       "ADESIVO FOTOPOLIMERIZAVEL SINGLE BOND          1\n",
       "SALBUTAMOL 100MCG/DOSE AEROSOL 200 DOSES       1\n",
       "Name: DS_ITEM, Length: 346300, dtype: int64"
      ]
     },
     "execution_count": 20,
     "metadata": {},
     "output_type": "execute_result"
    }
   ],
   "source": [
    "data_2016_item[\"DS_ITEM\"].value_counts()"
   ]
  },
  {
   "cell_type": "code",
   "execution_count": 21,
   "metadata": {},
   "outputs": [
    {
     "data": {
      "text/plain": [
       "0.00        17407\n",
       "3.00         1478\n",
       "4.00         1337\n",
       "20.00        1273\n",
       "5.00         1272\n",
       "            ...  \n",
       "34.06           1\n",
       "21967.66        1\n",
       "17217.46        1\n",
       "223.40          1\n",
       "55826.00        1\n",
       "Name: VL_UNITARIO_HOMOLOGADO, Length: 38076, dtype: int64"
      ]
     },
     "execution_count": 21,
     "metadata": {},
     "output_type": "execute_result"
    }
   ],
   "source": [
    "data_2016_item[\"VL_UNITARIO_HOMOLOGADO\"].value_counts()"
   ]
  },
  {
   "cell_type": "code",
   "execution_count": 8,
   "metadata": {},
   "outputs": [
    {
     "data": {
      "text/html": [
       "<div>\n",
       "<style scoped>\n",
       "    .dataframe tbody tr th:only-of-type {\n",
       "        vertical-align: middle;\n",
       "    }\n",
       "\n",
       "    .dataframe tbody tr th {\n",
       "        vertical-align: top;\n",
       "    }\n",
       "\n",
       "    .dataframe thead th {\n",
       "        text-align: right;\n",
       "    }\n",
       "</style>\n",
       "<table border=\"1\" class=\"dataframe\">\n",
       "  <thead>\n",
       "    <tr style=\"text-align: right;\">\n",
       "      <th></th>\n",
       "      <th>CD_ORGAO</th>\n",
       "      <th>NR_LICITACAO</th>\n",
       "      <th>ANO_LICITACAO</th>\n",
       "      <th>CD_TIPO_MODALIDADE</th>\n",
       "      <th>NR_LOTE</th>\n",
       "      <th>NR_ITEM</th>\n",
       "      <th>NR_ITEM_ORIGINAL</th>\n",
       "      <th>DS_ITEM</th>\n",
       "      <th>QT_ITENS</th>\n",
       "      <th>SG_UNIDADE_MEDIDA</th>\n",
       "      <th>VL_UNITARIO_ESTIMADO</th>\n",
       "      <th>VL_TOTAL_ESTIMADO</th>\n",
       "      <th>DT_REF_VALOR_ESTIMADO</th>\n",
       "      <th>PC_BDI_ESTIMADO</th>\n",
       "      <th>PC_ENCARGOS_SOCIAIS_ESTIMADO</th>\n",
       "      <th>CD_FONTE_REFERENCIA</th>\n",
       "      <th>DS_FONTE_REFERENCIA</th>\n",
       "      <th>TP_RESULTADO_ITEM</th>\n",
       "      <th>VL_UNITARIO_HOMOLOGADO</th>\n",
       "      <th>VL_TOTAL_HOMOLOGADO</th>\n",
       "      <th>PC_BDI_HOMOLOGADO</th>\n",
       "      <th>PC_ENCARGOS_SOCIAIS_HOMOLOGADO</th>\n",
       "      <th>TP_ORCAMENTO</th>\n",
       "      <th>CD_TIPO_FAMILIA</th>\n",
       "      <th>CD_TIPO_SUBFAMILIA</th>\n",
       "      <th>TP_DOCUMENTO</th>\n",
       "      <th>NR_DOCUMENTO</th>\n",
       "      <th>TP_DOCUMENTO.1</th>\n",
       "      <th>NR_DOCUMENTO.1</th>\n",
       "      <th>TP_BENEFICIO_MICRO_EPP</th>\n",
       "      <th>PC_TX_ESTIMADA</th>\n",
       "      <th>PC_TX_HOMOLOGADA</th>\n",
       "    </tr>\n",
       "  </thead>\n",
       "  <tbody>\n",
       "    <tr>\n",
       "      <th>279970</th>\n",
       "      <td>49200</td>\n",
       "      <td>20.0</td>\n",
       "      <td>2016</td>\n",
       "      <td>PRE</td>\n",
       "      <td>1</td>\n",
       "      <td>16</td>\n",
       "      <td>33135</td>\n",
       "      <td>MAMADEIRA</td>\n",
       "      <td>25.0</td>\n",
       "      <td>UN</td>\n",
       "      <td>4.51</td>\n",
       "      <td>112.75</td>\n",
       "      <td>NaN</td>\n",
       "      <td>NaN</td>\n",
       "      <td>NaN</td>\n",
       "      <td>NaN</td>\n",
       "      <td>COTACAO</td>\n",
       "      <td>A</td>\n",
       "      <td>4.51</td>\n",
       "      <td>NaN</td>\n",
       "      <td>NaN</td>\n",
       "      <td>NaN</td>\n",
       "      <td>M</td>\n",
       "      <td>NaN</td>\n",
       "      <td>NaN</td>\n",
       "      <td>J</td>\n",
       "      <td>3.145819e+12</td>\n",
       "      <td>NaN</td>\n",
       "      <td>NaN</td>\n",
       "      <td>L</td>\n",
       "      <td>NaN</td>\n",
       "      <td>NaN</td>\n",
       "    </tr>\n",
       "  </tbody>\n",
       "</table>\n",
       "</div>"
      ],
      "text/plain": [
       "        CD_ORGAO  NR_LICITACAO  ANO_LICITACAO CD_TIPO_MODALIDADE  NR_LOTE  \\\n",
       "279970     49200          20.0           2016                PRE        1   \n",
       "\n",
       "        NR_ITEM NR_ITEM_ORIGINAL    DS_ITEM  QT_ITENS SG_UNIDADE_MEDIDA  \\\n",
       "279970       16            33135  MAMADEIRA      25.0                UN   \n",
       "\n",
       "        VL_UNITARIO_ESTIMADO  VL_TOTAL_ESTIMADO DT_REF_VALOR_ESTIMADO  \\\n",
       "279970                  4.51             112.75                   NaN   \n",
       "\n",
       "        PC_BDI_ESTIMADO  PC_ENCARGOS_SOCIAIS_ESTIMADO CD_FONTE_REFERENCIA  \\\n",
       "279970              NaN                           NaN                 NaN   \n",
       "\n",
       "       DS_FONTE_REFERENCIA TP_RESULTADO_ITEM  VL_UNITARIO_HOMOLOGADO  \\\n",
       "279970             COTACAO                 A                    4.51   \n",
       "\n",
       "       VL_TOTAL_HOMOLOGADO  PC_BDI_HOMOLOGADO  PC_ENCARGOS_SOCIAIS_HOMOLOGADO  \\\n",
       "279970                 NaN                NaN                             NaN   \n",
       "\n",
       "       TP_ORCAMENTO  CD_TIPO_FAMILIA  CD_TIPO_SUBFAMILIA TP_DOCUMENTO  \\\n",
       "279970            M              NaN                 NaN            J   \n",
       "\n",
       "        NR_DOCUMENTO TP_DOCUMENTO.1 NR_DOCUMENTO.1 TP_BENEFICIO_MICRO_EPP  \\\n",
       "279970  3.145819e+12            NaN            NaN                      L   \n",
       "\n",
       "        PC_TX_ESTIMADA  PC_TX_HOMOLOGADA  \n",
       "279970             NaN               NaN  "
      ]
     },
     "execution_count": 8,
     "metadata": {},
     "output_type": "execute_result"
    }
   ],
   "source": [
    "data_2016_item.query('DS_ITEM == \"MAMADEIRA\"')"
   ]
  },
  {
   "cell_type": "code",
   "execution_count": null,
   "metadata": {},
   "outputs": [],
   "source": []
  }
 ],
 "metadata": {
  "kernelspec": {
   "display_name": "Python 3.9.10 64-bit",
   "language": "python",
   "name": "python3"
  },
  "language_info": {
   "codemirror_mode": {
    "name": "ipython",
    "version": 3
   },
   "file_extension": ".py",
   "mimetype": "text/x-python",
   "name": "python",
   "nbconvert_exporter": "python",
   "pygments_lexer": "ipython3",
   "version": "3.9.10"
  },
  "orig_nbformat": 4,
  "vscode": {
   "interpreter": {
    "hash": "32977651cd093788b890d8adb6356bcd28584de1a2bd80a3ba14d7b554e6ba84"
   }
  }
 },
 "nbformat": 4,
 "nbformat_minor": 2
}
